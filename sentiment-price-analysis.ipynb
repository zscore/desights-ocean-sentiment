{
 "cells": [
  {
   "cell_type": "code",
   "execution_count": 47,
   "id": "e2824004-9a85-41de-b030-b045d238d07a",
   "metadata": {},
   "outputs": [],
   "source": [
    "import pandas as pd"
   ]
  },
  {
   "cell_type": "code",
   "execution_count": 48,
   "id": "315733cd-a43f-41ea-8426-a705301d5e1d",
   "metadata": {},
   "outputs": [],
   "source": [
    "prices_df = pd.read_csv(\"./datasets/OCEAN token price dataset.csv\")\n",
    "sentiment_df = pd.read_csv(\"./derived_datasets/twitter-roberta-base-sentiment.csv\")\n",
    "tweets_df = pd.read_csv(\"./datasets/$OCEAN tweets dataset.csv\")"
   ]
  },
  {
   "cell_type": "code",
   "execution_count": 49,
   "id": "e616bcbd-36f1-47a7-b404-f8bae2485902",
   "metadata": {},
   "outputs": [],
   "source": [
    "prices_df[\"date_dt\"] = pd.to_datetime(prices_df[\"Date\"])"
   ]
  },
  {
   "cell_type": "code",
   "execution_count": 50,
   "id": "de77452c-8b0b-456c-8451-68de1dd449ee",
   "metadata": {},
   "outputs": [],
   "source": [
    "sentiment_df[\"positive_index\"] =  sentiment_df[\"positive\"] - sentiment_df[\"neutral\"]\n",
    "sentiment_tweets_df = sentiment_df.merge(tweets_df, left_on=\"tweet_id\", right_on=\"id\")\n",
    "sentiment_tweets_df[\"date_dt\"] = pd.to_datetime(sentiment_tweets_df[\"date\"])\n",
    "sentiment_tweets_df[\"likes_pos_idx\"] = sentiment_tweets_df[\"likes_count\"] * sentiment_tweets_df[\"positive_index\"]"
   ]
  },
  {
   "cell_type": "code",
   "execution_count": 51,
   "id": "f713dd0f-c01a-494b-bdc4-d9b81120305f",
   "metadata": {},
   "outputs": [],
   "source": [
    "# prices_daily_tweets_df = prices_df.merge(daily_tweets_df.reset_index(), on=\"date_dt\")"
   ]
  },
  {
   "cell_type": "code",
   "execution_count": 63,
   "id": "c9eee636-9783-49df-a969-e40e34130f1f",
   "metadata": {},
   "outputs": [],
   "source": [
    "daily_sentiment_df = sentiment_tweets_df.groupby(\"date_dt\")[[\"likes_pos_idx\", \"likes_count\"]].sum()\n",
    "daily_sentiment_df[\"weight_pos_idx\"] = (daily_sentiment_df[\"likes_pos_idx\"] / daily_sentiment_df[\"likes_count\"])\n",
    "daily_sentiment_df[\"weight_pos_idx\"].describe()\n",
    "\n",
    "prices_sentiment_df = prices_df.merge(daily_sentiment_df.reset_index(), on=\"date_dt\")\n",
    "\n",
    "_ = prices_sentiment_df.plot(x=\"weight_pos_idx\", y=\"Close\", kind=\"scatter\")"
   ]
  }
 ],
 "metadata": {
  "kernelspec": {
   "display_name": "Python 3 (ipykernel)",
   "language": "python",
   "name": "python3"
  },
  "language_info": {
   "codemirror_mode": {
    "name": "ipython",
    "version": 3
   },
   "file_extension": ".py",
   "mimetype": "text/x-python",
   "name": "python",
   "nbconvert_exporter": "python",
   "pygments_lexer": "ipython3",
   "version": "3.9.7"
  }
 },
 "nbformat": 4,
 "nbformat_minor": 5
}
