{
 "cells": [
  {
   "cell_type": "code",
   "execution_count": 2,
   "id": "e75a5f88-64a5-412b-86db-485777a053e8",
   "metadata": {},
   "outputs": [
    {
     "name": "stdout",
     "output_type": "stream",
     "text": [
      "Intel MKL WARNING: Support of Intel(R) Streaming SIMD Extensions 4.2 (Intel(R) SSE4.2) enabled only processors has been deprecated. Intel oneAPI Math Kernel Library 2025.0 will require Intel(R) Advanced Vector Extensions (Intel(R) AVX) instructions.\n",
      "Intel MKL WARNING: Support of Intel(R) Streaming SIMD Extensions 4.2 (Intel(R) SSE4.2) enabled only processors has been deprecated. Intel oneAPI Math Kernel Library 2025.0 will require Intel(R) Advanced Vector Extensions (Intel(R) AVX) instructions.\n"
     ]
    }
   ],
   "source": [
    "import numpy as np\n",
    "import pandas as pd"
   ]
  },
  {
   "cell_type": "code",
   "execution_count": 3,
   "id": "c230b296-4fa3-43f3-8cd4-7a86ee847911",
   "metadata": {},
   "outputs": [],
   "source": [
    "tweets_df = pd.read_csv(\"./datasets/$OCEAN tweets dataset.csv\")"
   ]
  },
  {
   "cell_type": "code",
   "execution_count": 4,
   "id": "122f5995-a324-4a52-acba-0895eb8e1085",
   "metadata": {},
   "outputs": [],
   "source": [
    "sentiment_scores_df = pd.read_csv(\"./derived_datasets/twitter-roberta-base-sentiment.csv\")"
   ]
  },
  {
   "cell_type": "code",
   "execution_count": 5,
   "id": "c6b39197-f82e-4b45-ac4e-0765c4871e4e",
   "metadata": {},
   "outputs": [],
   "source": [
    "tweets_sentiment_df = tweets_df.merge(sentiment_scores_df,\n",
    "                                      left_on=\"id\",\n",
    "                                      right_on=\"tweet_id\")"
   ]
  },
  {
   "cell_type": "code",
   "execution_count": 11,
   "id": "393d9fe3-6061-49c5-9f85-c27b3487af73",
   "metadata": {
    "tags": []
   },
   "outputs": [],
   "source": [
    "# here I sample 100 tweets to label by hand\n",
    "# I noticed that some tweets were impossible to classify\n",
    "# as positive or negative because they were in another language\n",
    "# or were referencing a reply that was not visible\n",
    "np.random.seed(100101)\n",
    "labels = ['negative', 'neutral', 'positive']\n",
    "# tweets_sentiment_df.sample(100).to_excel(\"./derived_datasets/sampled_tweets.xls\")"
   ]
  },
  {
   "cell_type": "code",
   "execution_count": 6,
   "id": "2f903448-c923-45b7-a5c8-efd0705d7a4d",
   "metadata": {},
   "outputs": [],
   "source": [
    "clean_labels_from_google_drive = pd.read_csv(\"./derived_datasets/labels.csv\")"
   ]
  },
  {
   "cell_type": "code",
   "execution_count": 14,
   "id": "da91c7c4-43f8-477a-8a1e-c450ff598da2",
   "metadata": {},
   "outputs": [],
   "source": [
    "label_mapping = {1: \"positive\", 0: \"neutral\", -1: \"negative\", \"-\": \"unknown\"}"
   ]
  },
  {
   "cell_type": "code",
   "execution_count": 12,
   "id": "d372e2d0-6c41-4757-b882-6f394e5b5b4c",
   "metadata": {},
   "outputs": [],
   "source": [
    "# Here I convert the predictions of the sentiment classifier into the same format as the labels I did by hand\n",
    "# I take the highest probability as the prediction\n",
    "tweets_sentiment_df[\"sentiment_classification\"] = tweets_sentiment_df[labels].apply(np.argmax, axis=1) - 1"
   ]
  },
  {
   "cell_type": "code",
   "execution_count": 7,
   "id": "b81e45ed-9d45-4ca6-9bc8-2a0991e22fc5",
   "metadata": {},
   "outputs": [],
   "source": [
    "clean_labels_from_google_drive = pd.read_csv(\"./derived_datasets/sampled_tweets.csv\")"
   ]
  },
  {
   "cell_type": "code",
   "execution_count": 27,
   "id": "01243df8-958c-442b-a734-313e6bd5c177",
   "metadata": {},
   "outputs": [],
   "source": [
    "# we join on tweet because the ids got mangled by excel\n",
    "joined_df = tweets_sentiment_df.merge(\n",
    "    clean_labels_from_google_drive[[\"tweet\", \"Labels\"]],\n",
    "    on=\"tweet\",\n",
    "    suffixes=[\"\", \"_label\"])[[\"tweet\", \"sentiment_classification\", \"Labels\"]].drop_duplicates()\n",
    "# we have to drop duplicates\n",
    "# because of duplicate tweets"
   ]
  },
  {
   "cell_type": "code",
   "execution_count": 18,
   "id": "906f9e3a-bbd2-4734-b994-9aaa9febfb71",
   "metadata": {},
   "outputs": [
    {
     "data": {
      "text/html": [
       "<div>\n",
       "<style scoped>\n",
       "    .dataframe tbody tr th:only-of-type {\n",
       "        vertical-align: middle;\n",
       "    }\n",
       "\n",
       "    .dataframe tbody tr th {\n",
       "        vertical-align: top;\n",
       "    }\n",
       "\n",
       "    .dataframe thead th {\n",
       "        text-align: right;\n",
       "    }\n",
       "</style>\n",
       "<table border=\"1\" class=\"dataframe\">\n",
       "  <thead>\n",
       "    <tr style=\"text-align: right;\">\n",
       "      <th></th>\n",
       "      <th></th>\n",
       "      <th>tweet</th>\n",
       "    </tr>\n",
       "    <tr>\n",
       "      <th>sentiment_classification</th>\n",
       "      <th>Labels</th>\n",
       "      <th></th>\n",
       "    </tr>\n",
       "  </thead>\n",
       "  <tbody>\n",
       "    <tr>\n",
       "      <th rowspan=\"3\" valign=\"top\">-1</th>\n",
       "      <th>-</th>\n",
       "      <td>1</td>\n",
       "    </tr>\n",
       "    <tr>\n",
       "      <th>-1</th>\n",
       "      <td>2</td>\n",
       "    </tr>\n",
       "    <tr>\n",
       "      <th>0</th>\n",
       "      <td>1</td>\n",
       "    </tr>\n",
       "    <tr>\n",
       "      <th rowspan=\"4\" valign=\"top\">0</th>\n",
       "      <th>-</th>\n",
       "      <td>4</td>\n",
       "    </tr>\n",
       "    <tr>\n",
       "      <th>-1</th>\n",
       "      <td>5</td>\n",
       "    </tr>\n",
       "    <tr>\n",
       "      <th>0</th>\n",
       "      <td>21</td>\n",
       "    </tr>\n",
       "    <tr>\n",
       "      <th>1</th>\n",
       "      <td>14</td>\n",
       "    </tr>\n",
       "    <tr>\n",
       "      <th rowspan=\"3\" valign=\"top\">1</th>\n",
       "      <th>-1</th>\n",
       "      <td>1</td>\n",
       "    </tr>\n",
       "    <tr>\n",
       "      <th>0</th>\n",
       "      <td>15</td>\n",
       "    </tr>\n",
       "    <tr>\n",
       "      <th>1</th>\n",
       "      <td>36</td>\n",
       "    </tr>\n",
       "  </tbody>\n",
       "</table>\n",
       "</div>"
      ],
      "text/plain": [
       "                                 tweet\n",
       "sentiment_classification Labels       \n",
       "-1                       -           1\n",
       "                         -1          2\n",
       "                         0           1\n",
       " 0                       -           4\n",
       "                         -1          5\n",
       "                         0          21\n",
       "                         1          14\n",
       " 1                       -1          1\n",
       "                         0          15\n",
       "                         1          36"
      ]
     },
     "execution_count": 18,
     "metadata": {},
     "output_type": "execute_result"
    }
   ],
   "source": [
    "# here we compare the labels with the predictions\n",
    "joined_df.groupby([\"sentiment_classification\", \"Labels\"]).count()"
   ]
  },
  {
   "cell_type": "code",
   "execution_count": 19,
   "id": "ce8b32c3-4e01-48d4-973a-39fcf6281850",
   "metadata": {},
   "outputs": [
    {
     "data": {
      "text/plain": [
       "0.05"
      ]
     },
     "execution_count": 19,
     "metadata": {},
     "output_type": "execute_result"
    }
   ],
   "source": [
    "# Here we find I was unable to classify 5% of the tweets\n",
    "filt_df = joined_df.query(\"Labels != '-'\")\n",
    "joined_df.query(\"Labels == '-'\").shape[0] / joined_df.shape[0]"
   ]
  },
  {
   "cell_type": "code",
   "execution_count": 23,
   "id": "9d4e55c8-5647-4de9-a1f5-e8b31b58654c",
   "metadata": {},
   "outputs": [
    {
     "data": {
      "text/html": [
       "<div>\n",
       "<style scoped>\n",
       "    .dataframe tbody tr th:only-of-type {\n",
       "        vertical-align: middle;\n",
       "    }\n",
       "\n",
       "    .dataframe tbody tr th {\n",
       "        vertical-align: top;\n",
       "    }\n",
       "\n",
       "    .dataframe thead th {\n",
       "        text-align: right;\n",
       "    }\n",
       "</style>\n",
       "<table border=\"1\" class=\"dataframe\">\n",
       "  <thead>\n",
       "    <tr style=\"text-align: right;\">\n",
       "      <th></th>\n",
       "      <th>tweet</th>\n",
       "      <th>sentiment_classification</th>\n",
       "    </tr>\n",
       "    <tr>\n",
       "      <th>Labels</th>\n",
       "      <th></th>\n",
       "      <th></th>\n",
       "    </tr>\n",
       "  </thead>\n",
       "  <tbody>\n",
       "    <tr>\n",
       "      <th>-1</th>\n",
       "      <td>8</td>\n",
       "      <td>8</td>\n",
       "    </tr>\n",
       "    <tr>\n",
       "      <th>0</th>\n",
       "      <td>37</td>\n",
       "      <td>37</td>\n",
       "    </tr>\n",
       "    <tr>\n",
       "      <th>1</th>\n",
       "      <td>50</td>\n",
       "      <td>50</td>\n",
       "    </tr>\n",
       "  </tbody>\n",
       "</table>\n",
       "</div>"
      ],
      "text/plain": [
       "        tweet  sentiment_classification\n",
       "Labels                                 \n",
       "-1          8                         8\n",
       "0          37                        37\n",
       "1          50                        50"
      ]
     },
     "execution_count": 23,
     "metadata": {},
     "output_type": "execute_result"
    }
   ],
   "source": [
    "filt_df.groupby(\"Labels\").count()"
   ]
  },
  {
   "cell_type": "code",
   "execution_count": 24,
   "id": "07ac3e7b-8a2b-4ce7-a3f0-923b446f7083",
   "metadata": {},
   "outputs": [
    {
     "data": {
      "text/plain": [
       "0.6210526315789474"
      ]
     },
     "execution_count": 24,
     "metadata": {},
     "output_type": "execute_result"
    }
   ],
   "source": [
    "# Here we find our accuracy is 62%, although we see that half of the tweets\n",
    "# are positive, so the null model would have 50% accuracy\n",
    "np.mean(filt_df[\"Labels\"].apply(int) == filt_df[\"sentiment_classification\"])"
   ]
  },
  {
   "cell_type": "code",
   "execution_count": 25,
   "id": "0c55c2ba-765b-4410-957f-e5215fbc9f81",
   "metadata": {},
   "outputs": [
    {
     "data": {
      "text/plain": [
       "0.9894736842105263"
      ]
     },
     "execution_count": 25,
     "metadata": {},
     "output_type": "execute_result"
    }
   ],
   "source": [
    "# here we find that 99% of labels are at most once step apart, ie, unknown to positive and unknown to negative\n",
    "np.mean(np.abs(filt_df[\"Labels\"].apply(int) - filt_df[\"sentiment_classification\"]) <= 1)"
   ]
  }
 ],
 "metadata": {
  "kernelspec": {
   "display_name": "Python 3 (ipykernel)",
   "language": "python",
   "name": "python3"
  },
  "language_info": {
   "codemirror_mode": {
    "name": "ipython",
    "version": 3
   },
   "file_extension": ".py",
   "mimetype": "text/x-python",
   "name": "python",
   "nbconvert_exporter": "python",
   "pygments_lexer": "ipython3",
   "version": "3.8.16"
  }
 },
 "nbformat": 4,
 "nbformat_minor": 5
}
